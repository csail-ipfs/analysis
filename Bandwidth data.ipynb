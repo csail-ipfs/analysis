{
 "cells": [
  {
   "cell_type": "code",
   "execution_count": null,
   "metadata": {},
   "outputs": [],
   "source": [
    "import json\n",
    "import glob\n",
    "from tqdm import tqdm\n",
    "from datetime import datetime, timedelta\n",
    "\n",
    "import pandas as pd\n",
    "import numpy as np\n",
    "import matplotlib.pyplot as plt\n",
    "import seaborn as sns; sns.set()\n",
    "import matplotlib.dates as mdates"
   ]
  },
  {
   "cell_type": "code",
   "execution_count": null,
   "metadata": {},
   "outputs": [],
   "source": [
    "DATA = \"bandwidth.json\"\n",
    "\n",
    "def hostnameToLocation(hostname): \n",
    "    \"\"\"Change hostnames as reported by each VM to a location code.\"\"\"\n",
    "\n",
    "    label = hostname.split(\".\")[0] \n",
    "    locationCode = label.split(\"-\")[-1] if hostname != \"fruchter-ipfs-probe\" else \"chs1\"\n",
    "    return locationCode\n",
    "\n",
    "# Read file from Mongo export\n",
    "with open(DATA) as f:\n",
    "    bw = [json.loads(line) for line in f.readlines()]\n",
    "    for tx in tqdm(bw):\n",
    "        # Remove Mongo ID\n",
    "        del tx['_id']\n",
    "\n",
    "        # Parse hostname        \n",
    "        tx['VANTAGE'] = hostnameToLocation(tx['VANTAGE'])\n",
    "        tx['VP_SHORT'] = location[0:3]\n",
    "\n",
    "        # Timestamp to Python datetime\n",
    "        tx['TIMESTAMP'] = datetime.fromtimestamp( int(tx['TIMESTAMP']) ) \n",
    "        \n",
    "        # Deal with export errors\n",
    "        if type(tx['RateIn']) == dict: \n",
    "            tx['RateIn'] = np.nan\n",
    "        if type(tx['RateOut']) == dict: \n",
    "            tx['RateOut'] = np.nan\n",
    "        \n",
    "# Convert to pandas DataFrame\n",
    "df = pd.DataFrame(bw)\n",
    "df['dti'] = pd.DatetimeIndex(df['TIMESTAMP'])\n",
    "\n",
    "# Map location code to region code\n",
    "region = {'lax': 'na', 'chs1': 'na', 'chs2': 'na', 'ams': 'eu', 'ams2': 'eu', 'hel': 'eu', 'bom': 'ap', 'sin': 'ap', 'gru': 'sa'}\n",
    "df['Region'] = df.VANTAGE.map(region)\n",
    "\n",
    "# Create data subsets\n",
    "dfSum = df[ df.LOGTYPE == 'bw_all']\n",
    "dfProto = df[ df.LOGTYPE == 'bw_proto']\n",
    "# ...and index to timestamp\n",
    "dfSum.index = dfSum.dti\n",
    "dfProto.index = dfProto.dti\n"
   ]
  },
  {
   "cell_type": "code",
   "execution_count": null,
   "metadata": {},
   "outputs": [],
   "source": [
    "# Cumulative data usage: all protocols\n",
    "subset = dfSum[ ['TotalIn', 'TotalOut', 'VANTAGE']]\n",
    "subset = subset.reset_index().set_index(['dti','VANTAGE'])\n",
    "subset = subset.stack().reset_index().set_index('dti')\n",
    "subset.columns = pd.Index(['Vantage', 'Direction', 'Total'])\n",
    "\n",
    "# Sum over individual VPs\n",
    "subset['Total MBs'] = subset.Total.astype(np.int) / 1e3"
   ]
  },
  {
   "cell_type": "code",
   "execution_count": null,
   "metadata": {},
   "outputs": [],
   "source": [
    "# Cumulative data usage by protocol\n",
    "subset = dfProto[ ['TotalIn', 'TotalOut', 'VANTAGE', 'NOTE']]\n",
    "subset = subset[ (subset.NOTE == \"/ipfs/kad/1.0.0\") | (subset.NOTE == '/ipfs/id/1.0.0') | (subset.NOTE == '/ipfs/ping/1.0.0') ] \n",
    "subset = subset[ (subset.VANTAGE != 'mbp13') & (subset.VANTAGE != \"big\") ]\n",
    "\n",
    "# Resampled bandwidth data\n",
    "avg = subset.groupby(['NOTE', 'VANTAGE'])[['TotalIn', 'TotalOut']].resample(\"10Min\").median()\n",
    "\n",
    "bw = avg.stack().reset_index().set_index('dti')\n",
    "bw.columns = pd.Index(['Protocol', 'Vantage', 'Direction', 'Transfer'])\n",
    "bw = bw.reset_index()\n",
    "\n",
    "# Create a numeric day index for visualization purposes\n",
    "bw['Day'] = (bw.dti - timedelta(days=22)).dt.day\n",
    "bw['Direction'] = bw.Direction.replace(\"CumlIn\", \"Down\").replace(\"CumlOut\", \"Up\")\n",
    "bw['Transfer (MB)'] = bw.Transfer / 1e6\n",
    "\n",
    "g = sns.FacetGrid(data=bw,\n",
    "                  col='Protocol', hue='Direction', sharey=False)\n",
    "g.map(sns.lineplot, 'Day', 'Transfer (MB)', estimator='mean')\n"
   ]
  },
  {
   "cell_type": "code",
   "execution_count": null,
   "metadata": {},
   "outputs": [],
   "source": [
    "# Instantaneous rates: startup / first 5 hours\n",
    "sns.set(rc={'figure.figsize':(6,2)})\n",
    "avg = subset.loc['2019-04-23 17:00':'2019-04-23 22:00'] \\\n",
    "    .groupby([\"NOTE\", \"Region\"])[ ['RateIn', 'RateOut'] ] \\ \n",
    "    .resample(\"6Min\").mean()\n",
    "\n",
    "# Create new dataset that's stacked for Seaborn plotting\n",
    "startup = avg.stack().reset_index().set_index('dti')\n",
    "startup.columns = pd.Index(['Protocol', 'Vantage', 'Direction', 'Rate'])\n",
    "startup['Direction' ] = startup.Direction.replace(\"RateIn\", \"Down\").replace(\"RateOut\", \"Up\")\n",
    "startup = startup.reset_index()\n",
    "\n",
    "# We started measurement at 16H\n",
    "startup['Hour'] = (startup.dti - timedelta(hours=16)).dt.hour\n",
    "\n",
    "# Plot\n",
    "fig, ax = plt.subplots()\n",
    "sns.lineplot(data=startup, x='Hour', y='Rate', hue='Direction', estimator='mean')\n",
    "ax.set(xlabel='Hrs After Startup')\n",
    "ax.set(ylabel='Rate (kB/s)')"
   ]
  },
  {
   "cell_type": "code",
   "execution_count": null,
   "metadata": {},
   "outputs": [],
   "source": [
    "# Instantaneous rates: not startup\n",
    "sns.set(rc={'figure.figsize':(6,2)})\n",
    "\n",
    "# All data after the first day of measurement\n",
    "avg = subset.loc['2019-04-24':].groupby([\"NOTE\", \"Region\"])[ ['RateIn', 'RateOut'] ].resample(\"2H\").mean()\n",
    "\n",
    "# Create a new subst of data that's stacked for Seaborn plotting\n",
    "restOfActivity = avg.stack().reset_index().set_index('dti')\n",
    "restOfActivity.columns = pd.Index(['Protocol', 'Vantage', 'Direction', 'Rate'])\n",
    "restOfActivity['Direction' ] = restOfActivity.Direction.replace(\"RateIn\", \"Down\").replace(\"RateOut\", \"Up\")\n",
    "\n",
    "# Plot with log scale due to data's rapid increase\n",
    "fig, ax = plt.subplots()\n",
    "sns.lineplot(data=restOfActivity.reset_index(), \n",
    "             x='Day', y='Rate', hue='Direction', estimator='mean').set(yscale='log')\n",
    "ax.set(ylabel='Rate (log kB/s)')\n"
   ]
  },
  {
   "cell_type": "markdown",
   "metadata": {},
   "source": [
    "# Unused visualizations"
   ]
  },
  {
   "cell_type": "code",
   "execution_count": null,
   "metadata": {},
   "outputs": [],
   "source": [
    "# Instantaneous rates: startup\n",
    "avg = subset.loc['2019-04-23':'2019-04-23'].groupby([\"NOTE\", \"Region\"])[ ['RateIn', 'RateOut'] ].resample(\"6Min\").mean()\n",
    "startup = avg.stack().reset_index().set_index('dti')\n",
    "startup.columns = pd.Index(['Protocol', 'Vantage', 'Direction', 'Rate'])\n",
    "startup['Direction' ] = startup.Direction.replace(\"RateIn\", \"Down\").replace(\"RateOut\", \"Up\")\n",
    "\n",
    "g = sns.FacetGrid(data=startup.reset_index(), \n",
    "                  col='Vantage', hue='Direction', sharey=False)\n",
    "g.map(sns.lineplot, 'dti', 'Rate', estimator=\"mean\")\n",
    "\n",
    "for ax in g.axes.flat: \n",
    "    ax.xaxis.set_major_formatter(mdates.DateFormatter(\"%H\"))\n",
    "    ax.xaxis.set_minor_formatter(mdates.DateFormatter(\"%H\"))\n",
    "    "
   ]
  },
  {
   "cell_type": "code",
   "execution_count": null,
   "metadata": {
    "scrolled": true
   },
   "outputs": [],
   "source": [
    "# Graph\n",
    "g = sns.FacetGrid(data=subset.reset_index(), \n",
    "                  col='Vantage', hue='Direction', col_wrap=3)\n",
    "for ax in g.axes.flat: \n",
    "    ax.xaxis.set_major_formatter(mdates.DateFormatter(\"%-d\"))\n",
    "    ax.xaxis.set_minor_formatter(mdates.DateFormatter(\"%-d\"))\n",
    "g.map(sns.lineplot, 'dti', 'Total MBs', estimator=None)"
   ]
  }
 ],
 "metadata": {
  "kernelspec": {
   "display_name": "Python 3",
   "language": "python",
   "name": "python3"
  },
  "language_info": {
   "codemirror_mode": {
    "name": "ipython",
    "version": 3
   },
   "file_extension": ".py",
   "mimetype": "text/x-python",
   "name": "python",
   "nbconvert_exporter": "python",
   "pygments_lexer": "ipython3",
   "version": "3.7.3"
  }
 },
 "nbformat": 4,
 "nbformat_minor": 2
}
